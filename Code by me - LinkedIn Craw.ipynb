{
 "cells": [
  {
   "cell_type": "code",
   "execution_count": 15,
   "id": "0f7e778c",
   "metadata": {},
   "outputs": [
    {
     "name": "stdout",
     "output_type": "stream",
     "text": [
      "- Finish importing packages2\n"
     ]
    }
   ],
   "source": [
    "# Import libraries and packages for the project \n",
    "\n",
    "from selenium import webdriver\n",
    "from selenium.webdriver.common.keys import Keys\n",
    "from bs4 import BeautifulSoup\n",
    "from time import sleep\n",
    "import csv\n",
    "\n",
    "print('- Finish importing packages2')"
   ]
  },
  {
   "cell_type": "code",
   "execution_count": 16,
   "id": "6e7a911d",
   "metadata": {},
   "outputs": [
    {
     "name": "stdout",
     "output_type": "stream",
     "text": [
      "- finish task one\n"
     ]
    }
   ],
   "source": [
    "# Task 1: Login to Linkedin\n",
    "# Task 1.1: Open Chrome and Access Linkedin login site\n",
    "driver = webdriver.Chrome()\n",
    "# Maximizing window\n",
    "driver.maximize_window()\n",
    "sleep(2)\n",
    "url = 'https://www.linkedin.com/login'\n",
    "driver.get(url)\n",
    "\n",
    "sleep(2)\n",
    "# Create infofolder\n",
    "checkinfo = open('info.txt')\n",
    "line = checkinfo.readlines()\n",
    "username = line[0]\n",
    "password = line[1]\n",
    "print('- finish task one')"
   ]
  },
  {
   "cell_type": "code",
   "execution_count": 17,
   "id": "565f1000",
   "metadata": {},
   "outputs": [
    {
     "name": "stdout",
     "output_type": "stream",
     "text": [
      "login accepted\n"
     ]
    }
   ],
   "source": [
    "email_field =driver.find_element('id','username')\n",
    "email_field.send_keys(username)\n",
    "\n",
    "password_field = driver.find_element('name','session_password')\n",
    "password_field.send_keys(password)\n",
    "\n",
    "login_field = driver.find_element('xpath','//*[@id=\"organic-div\"]/form/div[3]/button')\n",
    "login_field.click()\n",
    "\n",
    "print('login accepted')\n",
    "sleep(3)"
   ]
  },
  {
   "cell_type": "code",
   "execution_count": 23,
   "id": "7689b4d6",
   "metadata": {
    "scrolled": true
   },
   "outputs": [],
   "source": [
    "#Task2 finding\n",
    "search_field = driver.find_element('xpath','/html/body/div[5]/header/div/div/div/div[1]/input')"
   ]
  },
  {
   "cell_type": "code",
   "execution_count": 24,
   "id": "92c69d83",
   "metadata": {},
   "outputs": [
    {
     "ename": "ElementNotInteractableException",
     "evalue": "Message: element not interactable\n  (Session info: chrome=114.0.5735.134)\nStacktrace:\nBacktrace:\n\tGetHandleVerifier [0x003CA813+48355]\n\t(No symbol) [0x0035C4B1]\n\t(No symbol) [0x00265220]\n\t(No symbol) [0x0028D046]\n\t(No symbol) [0x0028C8B1]\n\t(No symbol) [0x002AA73C]\n\t(No symbol) [0x00289A36]\n\t(No symbol) [0x002AAA94]\n\t(No symbol) [0x002BC922]\n\t(No symbol) [0x002AA536]\n\t(No symbol) [0x002882DC]\n\t(No symbol) [0x002893DD]\n\tGetHandleVerifier [0x0062AABD+2539405]\n\tGetHandleVerifier [0x0066A78F+2800735]\n\tGetHandleVerifier [0x0066456C+2775612]\n\tGetHandleVerifier [0x004551E0+616112]\n\t(No symbol) [0x00365F8C]\n\t(No symbol) [0x00362328]\n\t(No symbol) [0x0036240B]\n\t(No symbol) [0x00354FF7]\n\tBaseThreadInitThunk [0x75F700C9+25]\n\tRtlGetAppContainerNamedObjectPath [0x77867B4E+286]\n\tRtlGetAppContainerNamedObjectPath [0x77867B1E+238]\n",
     "output_type": "error",
     "traceback": [
      "\u001b[1;31m---------------------------------------------------------------------------\u001b[0m",
      "\u001b[1;31mElementNotInteractableException\u001b[0m           Traceback (most recent call last)",
      "\u001b[1;32m~\\AppData\\Local\\Temp\\ipykernel_24560\\1718321590.py\u001b[0m in \u001b[0;36m<module>\u001b[1;34m\u001b[0m\n\u001b[1;32m----> 1\u001b[1;33m \u001b[0msearch_field\u001b[0m\u001b[1;33m.\u001b[0m\u001b[0msend_keys\u001b[0m\u001b[1;33m(\u001b[0m\u001b[1;34m'Data Analyst People in Viet Nam'\u001b[0m\u001b[1;33m)\u001b[0m\u001b[1;33m\u001b[0m\u001b[1;33m\u001b[0m\u001b[0m\n\u001b[0m\u001b[0;32m      2\u001b[0m \u001b[0msearch_field\u001b[0m\u001b[1;33m.\u001b[0m\u001b[0msend_keys\u001b[0m\u001b[1;33m(\u001b[0m\u001b[0mKeys\u001b[0m\u001b[1;33m.\u001b[0m\u001b[0mRETURN\u001b[0m\u001b[1;33m)\u001b[0m\u001b[1;33m\u001b[0m\u001b[1;33m\u001b[0m\u001b[0m\n\u001b[0;32m      3\u001b[0m \u001b[1;31m#sleep(5)\u001b[0m\u001b[1;33m\u001b[0m\u001b[1;33m\u001b[0m\u001b[0m\n\u001b[0;32m      4\u001b[0m \u001b[1;33m\u001b[0m\u001b[0m\n\u001b[0;32m      5\u001b[0m \u001b[0mprint\u001b[0m\u001b[1;33m(\u001b[0m\u001b[1;34m'finish searching'\u001b[0m\u001b[1;33m)\u001b[0m\u001b[1;33m\u001b[0m\u001b[1;33m\u001b[0m\u001b[0m\n",
      "\u001b[1;32m~\\Anaconda3\\lib\\site-packages\\selenium\\webdriver\\remote\\webelement.py\u001b[0m in \u001b[0;36msend_keys\u001b[1;34m(self, *value)\u001b[0m\n\u001b[0;32m    229\u001b[0m                 \u001b[0mvalue\u001b[0m \u001b[1;33m=\u001b[0m \u001b[1;34m\"\\n\"\u001b[0m\u001b[1;33m.\u001b[0m\u001b[0mjoin\u001b[0m\u001b[1;33m(\u001b[0m\u001b[0mremote_files\u001b[0m\u001b[1;33m)\u001b[0m\u001b[1;33m\u001b[0m\u001b[1;33m\u001b[0m\u001b[0m\n\u001b[0;32m    230\u001b[0m \u001b[1;33m\u001b[0m\u001b[0m\n\u001b[1;32m--> 231\u001b[1;33m         self._execute(\n\u001b[0m\u001b[0;32m    232\u001b[0m             \u001b[0mCommand\u001b[0m\u001b[1;33m.\u001b[0m\u001b[0mSEND_KEYS_TO_ELEMENT\u001b[0m\u001b[1;33m,\u001b[0m \u001b[1;33m{\u001b[0m\u001b[1;34m\"text\"\u001b[0m\u001b[1;33m:\u001b[0m \u001b[1;34m\"\"\u001b[0m\u001b[1;33m.\u001b[0m\u001b[0mjoin\u001b[0m\u001b[1;33m(\u001b[0m\u001b[0mkeys_to_typing\u001b[0m\u001b[1;33m(\u001b[0m\u001b[0mvalue\u001b[0m\u001b[1;33m)\u001b[0m\u001b[1;33m)\u001b[0m\u001b[1;33m,\u001b[0m \u001b[1;34m\"value\"\u001b[0m\u001b[1;33m:\u001b[0m \u001b[0mkeys_to_typing\u001b[0m\u001b[1;33m(\u001b[0m\u001b[0mvalue\u001b[0m\u001b[1;33m)\u001b[0m\u001b[1;33m}\u001b[0m\u001b[1;33m\u001b[0m\u001b[1;33m\u001b[0m\u001b[0m\n\u001b[0;32m    233\u001b[0m         )\n",
      "\u001b[1;32m~\\Anaconda3\\lib\\site-packages\\selenium\\webdriver\\remote\\webelement.py\u001b[0m in \u001b[0;36m_execute\u001b[1;34m(self, command, params)\u001b[0m\n\u001b[0;32m    401\u001b[0m             \u001b[0mparams\u001b[0m \u001b[1;33m=\u001b[0m \u001b[1;33m{\u001b[0m\u001b[1;33m}\u001b[0m\u001b[1;33m\u001b[0m\u001b[1;33m\u001b[0m\u001b[0m\n\u001b[0;32m    402\u001b[0m         \u001b[0mparams\u001b[0m\u001b[1;33m[\u001b[0m\u001b[1;34m\"id\"\u001b[0m\u001b[1;33m]\u001b[0m \u001b[1;33m=\u001b[0m \u001b[0mself\u001b[0m\u001b[1;33m.\u001b[0m\u001b[0m_id\u001b[0m\u001b[1;33m\u001b[0m\u001b[1;33m\u001b[0m\u001b[0m\n\u001b[1;32m--> 403\u001b[1;33m         \u001b[1;32mreturn\u001b[0m \u001b[0mself\u001b[0m\u001b[1;33m.\u001b[0m\u001b[0m_parent\u001b[0m\u001b[1;33m.\u001b[0m\u001b[0mexecute\u001b[0m\u001b[1;33m(\u001b[0m\u001b[0mcommand\u001b[0m\u001b[1;33m,\u001b[0m \u001b[0mparams\u001b[0m\u001b[1;33m)\u001b[0m\u001b[1;33m\u001b[0m\u001b[1;33m\u001b[0m\u001b[0m\n\u001b[0m\u001b[0;32m    404\u001b[0m \u001b[1;33m\u001b[0m\u001b[0m\n\u001b[0;32m    405\u001b[0m     \u001b[1;32mdef\u001b[0m \u001b[0mfind_element\u001b[0m\u001b[1;33m(\u001b[0m\u001b[0mself\u001b[0m\u001b[1;33m,\u001b[0m \u001b[0mby\u001b[0m\u001b[1;33m=\u001b[0m\u001b[0mBy\u001b[0m\u001b[1;33m.\u001b[0m\u001b[0mID\u001b[0m\u001b[1;33m,\u001b[0m \u001b[0mvalue\u001b[0m\u001b[1;33m=\u001b[0m\u001b[1;32mNone\u001b[0m\u001b[1;33m)\u001b[0m \u001b[1;33m->\u001b[0m \u001b[0mWebElement\u001b[0m\u001b[1;33m:\u001b[0m\u001b[1;33m\u001b[0m\u001b[1;33m\u001b[0m\u001b[0m\n",
      "\u001b[1;32m~\\Anaconda3\\lib\\site-packages\\selenium\\webdriver\\remote\\webdriver.py\u001b[0m in \u001b[0;36mexecute\u001b[1;34m(self, driver_command, params)\u001b[0m\n\u001b[0;32m    438\u001b[0m         \u001b[0mresponse\u001b[0m \u001b[1;33m=\u001b[0m \u001b[0mself\u001b[0m\u001b[1;33m.\u001b[0m\u001b[0mcommand_executor\u001b[0m\u001b[1;33m.\u001b[0m\u001b[0mexecute\u001b[0m\u001b[1;33m(\u001b[0m\u001b[0mdriver_command\u001b[0m\u001b[1;33m,\u001b[0m \u001b[0mparams\u001b[0m\u001b[1;33m)\u001b[0m\u001b[1;33m\u001b[0m\u001b[1;33m\u001b[0m\u001b[0m\n\u001b[0;32m    439\u001b[0m         \u001b[1;32mif\u001b[0m \u001b[0mresponse\u001b[0m\u001b[1;33m:\u001b[0m\u001b[1;33m\u001b[0m\u001b[1;33m\u001b[0m\u001b[0m\n\u001b[1;32m--> 440\u001b[1;33m             \u001b[0mself\u001b[0m\u001b[1;33m.\u001b[0m\u001b[0merror_handler\u001b[0m\u001b[1;33m.\u001b[0m\u001b[0mcheck_response\u001b[0m\u001b[1;33m(\u001b[0m\u001b[0mresponse\u001b[0m\u001b[1;33m)\u001b[0m\u001b[1;33m\u001b[0m\u001b[1;33m\u001b[0m\u001b[0m\n\u001b[0m\u001b[0;32m    441\u001b[0m             \u001b[0mresponse\u001b[0m\u001b[1;33m[\u001b[0m\u001b[1;34m\"value\"\u001b[0m\u001b[1;33m]\u001b[0m \u001b[1;33m=\u001b[0m \u001b[0mself\u001b[0m\u001b[1;33m.\u001b[0m\u001b[0m_unwrap_value\u001b[0m\u001b[1;33m(\u001b[0m\u001b[0mresponse\u001b[0m\u001b[1;33m.\u001b[0m\u001b[0mget\u001b[0m\u001b[1;33m(\u001b[0m\u001b[1;34m\"value\"\u001b[0m\u001b[1;33m,\u001b[0m \u001b[1;32mNone\u001b[0m\u001b[1;33m)\u001b[0m\u001b[1;33m)\u001b[0m\u001b[1;33m\u001b[0m\u001b[1;33m\u001b[0m\u001b[0m\n\u001b[0;32m    442\u001b[0m             \u001b[1;32mreturn\u001b[0m \u001b[0mresponse\u001b[0m\u001b[1;33m\u001b[0m\u001b[1;33m\u001b[0m\u001b[0m\n",
      "\u001b[1;32m~\\Anaconda3\\lib\\site-packages\\selenium\\webdriver\\remote\\errorhandler.py\u001b[0m in \u001b[0;36mcheck_response\u001b[1;34m(self, response)\u001b[0m\n\u001b[0;32m    243\u001b[0m                 \u001b[0malert_text\u001b[0m \u001b[1;33m=\u001b[0m \u001b[0mvalue\u001b[0m\u001b[1;33m[\u001b[0m\u001b[1;34m\"alert\"\u001b[0m\u001b[1;33m]\u001b[0m\u001b[1;33m.\u001b[0m\u001b[0mget\u001b[0m\u001b[1;33m(\u001b[0m\u001b[1;34m\"text\"\u001b[0m\u001b[1;33m)\u001b[0m\u001b[1;33m\u001b[0m\u001b[1;33m\u001b[0m\u001b[0m\n\u001b[0;32m    244\u001b[0m             \u001b[1;32mraise\u001b[0m \u001b[0mexception_class\u001b[0m\u001b[1;33m(\u001b[0m\u001b[0mmessage\u001b[0m\u001b[1;33m,\u001b[0m \u001b[0mscreen\u001b[0m\u001b[1;33m,\u001b[0m \u001b[0mstacktrace\u001b[0m\u001b[1;33m,\u001b[0m \u001b[0malert_text\u001b[0m\u001b[1;33m)\u001b[0m  \u001b[1;31m# type: ignore[call-arg]  # mypy is not smart enough here\u001b[0m\u001b[1;33m\u001b[0m\u001b[1;33m\u001b[0m\u001b[0m\n\u001b[1;32m--> 245\u001b[1;33m         \u001b[1;32mraise\u001b[0m \u001b[0mexception_class\u001b[0m\u001b[1;33m(\u001b[0m\u001b[0mmessage\u001b[0m\u001b[1;33m,\u001b[0m \u001b[0mscreen\u001b[0m\u001b[1;33m,\u001b[0m \u001b[0mstacktrace\u001b[0m\u001b[1;33m)\u001b[0m\u001b[1;33m\u001b[0m\u001b[1;33m\u001b[0m\u001b[0m\n\u001b[0m",
      "\u001b[1;31mElementNotInteractableException\u001b[0m: Message: element not interactable\n  (Session info: chrome=114.0.5735.134)\nStacktrace:\nBacktrace:\n\tGetHandleVerifier [0x003CA813+48355]\n\t(No symbol) [0x0035C4B1]\n\t(No symbol) [0x00265220]\n\t(No symbol) [0x0028D046]\n\t(No symbol) [0x0028C8B1]\n\t(No symbol) [0x002AA73C]\n\t(No symbol) [0x00289A36]\n\t(No symbol) [0x002AAA94]\n\t(No symbol) [0x002BC922]\n\t(No symbol) [0x002AA536]\n\t(No symbol) [0x002882DC]\n\t(No symbol) [0x002893DD]\n\tGetHandleVerifier [0x0062AABD+2539405]\n\tGetHandleVerifier [0x0066A78F+2800735]\n\tGetHandleVerifier [0x0066456C+2775612]\n\tGetHandleVerifier [0x004551E0+616112]\n\t(No symbol) [0x00365F8C]\n\t(No symbol) [0x00362328]\n\t(No symbol) [0x0036240B]\n\t(No symbol) [0x00354FF7]\n\tBaseThreadInitThunk [0x75F700C9+25]\n\tRtlGetAppContainerNamedObjectPath [0x77867B4E+286]\n\tRtlGetAppContainerNamedObjectPath [0x77867B1E+238]\n"
     ]
    }
   ],
   "source": [
    "search_field.send_keys('Data Analyst People in Viet Nam')\n",
    "search_field.send_keys(Keys.RETURN)\n",
    "#sleep(5)\n",
    "print('finish searching')"
   ]
  },
  {
   "cell_type": "code",
   "execution_count": 31,
   "id": "758b1911",
   "metadata": {},
   "outputs": [
    {
     "name": "stdout",
     "output_type": "stream",
     "text": [
      "see all people\n"
     ]
    }
   ],
   "source": [
    "#Task2.1 See All Peole\n",
    "See_all = driver.find_element('xpath','//*[@id=\"utQsOhIzSyq6gHJV0MYckg==\"]/div/div[2]/a')\n",
    "See_all.click()\n",
    "print('see all people')\n",
    "sleep(2)"
   ]
  },
  {
   "cell_type": "code",
   "execution_count": 32,
   "id": "d3f86f03",
   "metadata": {},
   "outputs": [],
   "source": [
    "# Task 3\n",
    "#Create a function to get link of person each page\n",
    "def GetURL():\n",
    "    #Get Page source and choose which tag have link\n",
    "    page_source = BeautifulSoup(driver.page_source)\n",
    "    profiles = page_source.find_all('a',class_='app-aware-link scale-down')\n",
    "    # print(profile)\n",
    "    #get list of file\n",
    "    all_profile_URL = []\n",
    "    for profile in profiles:\n",
    "        profile_URL = profile.get('href')\n",
    "        if profile_URL not in all_profile_URL:\n",
    "            all_profile_URL.append(profile_URL)\n",
    "    return all_profile_URL"
   ]
  },
  {
   "cell_type": "code",
   "execution_count": 33,
   "id": "8bb24ab9",
   "metadata": {},
   "outputs": [
    {
     "name": "stdout",
     "output_type": "stream",
     "text": [
      "How many pages you want to scrape: 20\n",
      "- Finish Task 3: Scrape the URLs\n"
     ]
    }
   ],
   "source": [
    "# Task 3.2: Navigate through many page, and extract the profile URLs of each page\n",
    "input_page = int(input('How many pages you want to scrape: '))\n",
    "URLs_all_page = []\n",
    "for page in range(input_page):\n",
    "    URLs_one_page = GetURL()\n",
    "    sleep(2)\n",
    "    driver.execute_script('window.scrollTo(0, document.body.scrollHeight);') #scroll to the end of the page\n",
    "    sleep(3)\n",
    "    next_button = driver.find_element('class name','artdeco-button__text')\n",
    "    #next_button.click()\n",
    "    driver.execute_script(\"arguments[0].click();\", next_button)\n",
    "    URLs_all_page = URLs_all_page + URLs_one_page\n",
    "    sleep(2)\n",
    "\n",
    "print('- Finish Task 3: Scrape the URLs')"
   ]
  },
  {
   "cell_type": "code",
   "execution_count": null,
   "id": "69514743",
   "metadata": {},
   "outputs": [],
   "source": [
    "print(URLs_all_page)"
   ]
  },
  {
   "cell_type": "code",
   "execution_count": null,
   "id": "c02ed2b1",
   "metadata": {},
   "outputs": [],
   "source": [
    "with open('output_linkedin.csv', 'w', newline = '') as file_output:\n",
    "        headers=['Name','Status','Job Title','Location','URL']\n",
    "        writer = csv.DictWriter(file_output, delimiter=',',lineterminator='\\n',fieldnames=headers)\n",
    "        writer.writeheader()\n",
    "        for linkedin_URL in URLs_all_page:\n",
    "            driver.get(linkedin_URL)\n",
    "            sleep(4)\n",
    "            print('-Accessing profile: ',linkedin_URL)\n",
    "            #GET INFO\n",
    "            page_source = BeautifulSoup(driver.page_source,'html.parser')\n",
    "            infor_div = page_source.find('div',class_='mt2 relative')\n",
    "            name = infor_div.find('h1').get_text().strip()\n",
    "            print('Ten:    ',name)\n",
    "            connection_status = infor_div.find('span',class_='visually-hidden').get_text().strip()\n",
    "            print('Status:   ',connection_status)\n",
    "            Position = infor_div.find('div',class_='text-body-medium break-words').get_text().strip()\n",
    "            print('Vi tri hien tai: ',Position)\n",
    "            Location = infor_div.find('span',class_='text-body-small inline t-black--light break-words').get_text().strip()\n",
    "            print('Location:',Location)\n",
    "            #GET BIO\n",
    "            #PS2 =BeautifulSoup(driver.page_source)\n",
    "            #About = PS2.find('div',class_='pv-shared-text-with-see-more full-width t-14 t-normal t-black display-flex align-items-center')\n",
    "            #Bio = About.find('span',class_='visually-hidden').get_text().strip()\n",
    "            #print('Biograph:  ',Bio)\n",
    "            writer.writerow({headers[0]:name, headers[1]:connection_status, headers[2]:Position, headers[3]:Location,headers[4]:linkedin_URL})\n",
    "            print('\\n')\n",
    "    "
   ]
  },
  {
   "cell_type": "code",
   "execution_count": null,
   "id": "7a8abba7",
   "metadata": {},
   "outputs": [],
   "source": [
    "for linkedin_URL in URLs_all_page:\n",
    "    driver.get(linkedin_URL)\n",
    "    sleep(4)\n",
    "    print('-Accessing profile: ',linkedin_URL)\n",
    "    #GET INFO\n",
    "    page_source = BeautifulSoup(driver.page_source,'html.parser')\n",
    "    infor_div = page_source.find('div',class_='mt2 relative')\n",
    "    name = infor_div.find('h1').get_text().strip()\n",
    "    print('Ten:    ',name)\n",
    "    connection_status = infor_div.find('span',class_='visually-hidden').get_text().strip()\n",
    "    print('Status:   ',connection_status)\n",
    "    Position = infor_div.find('div',class_='text-body-medium break-words').get_text().strip()\n",
    "    print('Vi tri hien tai: ',Position)\n",
    "    Location = infor_div.find('span',class_='text-body-small inline t-black--light break-words').get_text().strip()\n",
    "    print('Location:',Location)\n",
    "    #GET BIO\n",
    "    #PS2 =BeautifulSoup(driver.page_source)\n",
    "    #About = PS2.find('div',class_='pv-shared-text-with-see-more full-width t-14 t-normal t-black display-flex align-items-center')\n",
    "    #Bio = About.find('span',class_='visually-hidden').get_text().strip()\n",
    "    #print('Biograph:  ',Bio)\n",
    "    print('\\n')\n",
    "\n",
    "print('finish')"
   ]
  },
  {
   "cell_type": "code",
   "execution_count": null,
   "id": "80bf6ea8",
   "metadata": {},
   "outputs": [],
   "source": []
  },
  {
   "cell_type": "code",
   "execution_count": null,
   "id": "61f39a3c",
   "metadata": {},
   "outputs": [],
   "source": []
  },
  {
   "cell_type": "code",
   "execution_count": null,
   "id": "6f6d00f0",
   "metadata": {},
   "outputs": [],
   "source": []
  }
 ],
 "metadata": {
  "kernelspec": {
   "display_name": "Python 3 (ipykernel)",
   "language": "python",
   "name": "python3"
  },
  "language_info": {
   "codemirror_mode": {
    "name": "ipython",
    "version": 3
   },
   "file_extension": ".py",
   "mimetype": "text/x-python",
   "name": "python",
   "nbconvert_exporter": "python",
   "pygments_lexer": "ipython3",
   "version": "3.9.13"
  }
 },
 "nbformat": 4,
 "nbformat_minor": 5
}
